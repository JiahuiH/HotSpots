{
 "cells": [
  {
   "cell_type": "code",
   "execution_count": 1,
   "metadata": {},
   "outputs": [],
   "source": [
    "import os\n",
    "import subprocess\n",
    "\n",
    "# define the path\n",
    "script_path = \"./pdb_parser.py\"\n",
    "pdb_directory = \"./test_pdb/\"\n",
    "\n",
    "# define name for the input\n",
    "pdb_files = os.listdir(pdb_directory)\n",
    "pdb_files = [file for file in pdb_files if file.startswith(\"AF_renumber_full_\")\n",
    "            and file.endswith(\".pdb\")]\n",
    "\n",
    "# Define chain name needed in the PDB_parser.py\n",
    "chain1 = input('\\nFirst chain: ')\n",
    "chain2 = input('Second chain: ')\n",
    "\n",
    "# Loop through each filtered .pdb file to run the script\n",
    "for pdb_file in pdb_files:\n",
    "    pdb_path = os.path.join(pdb_directory, pdb_file)\n",
    "    command = f\"python {script_path} {pdb_path} {chain1} {chain2}\"\n",
    "    subprocess.run(command, shell=True)\n"
   ]
  }
 ],
 "metadata": {
  "kernelspec": {
   "display_name": "base",
   "language": "python",
   "name": "python3"
  },
  "language_info": {
   "codemirror_mode": {
    "name": "ipython",
    "version": 3
   },
   "file_extension": ".py",
   "mimetype": "text/x-python",
   "name": "python",
   "nbconvert_exporter": "python",
   "pygments_lexer": "ipython3",
   "version": "3.9.7"
  }
 },
 "nbformat": 4,
 "nbformat_minor": 2
}
